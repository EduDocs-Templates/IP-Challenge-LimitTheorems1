{
 "cells": [
  {
   "cell_type": "markdown",
   "id": "precious-bankruptcy",
   "metadata": {},
   "source": [
    "# Machine Problem: Limit Theorems\n",
    "\n",
    "The **Law of Large Numbers** (LLN) and the **Central Limit Theorem** (CLT) are two fundamental results in probability.\n",
    "The first theorem characterizes the convergence of empirical averages, whereas the second theorem seeks to capture the behavior of large sums of small, independent random components.\n",
    "In this [Python](https://www.python.org/) challenge, you will explore these two results numerically.\n"
   ]
  },
  {
   "cell_type": "markdown",
   "id": "extended-commission",
   "metadata": {},
   "source": [
    "## Gaussian Random Variables\n",
    "\n",
    "The Gaussian distribution belongs to the family of stable distributions, which are the attractors of sums of independent, identically distributed random variables.\n",
    "In particular, adding independent Gaussian random variables produces a Gaussian random variable.\n",
    "This property makes sums of Gaussian random variables ideal to gain insight into limit theorems.\n",
    "\n",
    "Below, we consider two distinct objects: an empirical average and a scaled sum.\n",
    "The empirical average is obtained by adding *n* independent normal random variables and, subsequently, normalizing the sum by *n*.\n",
    "Likewise, the scaled sum is produced by adding *n* independent normal random variables and, subsequently, dividing the sum by the square root of *n*.\n",
    "This procedure is repeated over several *runs* and histograms of the outcomes are plotted.\n",
    "Try to compute the means and variances associated with these two operations before executing the *code*, and verify that your intuition is correct.\n"
   ]
  },
  {
   "cell_type": "code",
   "execution_count": null,
   "id": "suitable-scoop",
   "metadata": {},
   "outputs": [],
   "source": [
    "import math\n",
    "import random\n",
    "import scipy.stats\n",
    "import numpy as np\n",
    "import matplotlib.pyplot as plt\n",
    "\n",
    "runs = 10000 # Number of points in histograms\n",
    "sample = 100 # Number of random variables in each sum\n",
    "\n",
    "average = [] # List of empirical averages\n",
    "scaledsums = [] # List of empirical scaled sums\n",
    "mean = 0.0\n",
    "stddev = 1.0\n",
    "\n",
    "for iteration in range(0, runs):\n",
    "    sequence = []\n",
    "    summation = 0.0\n",
    "    for index in range(0, sample):\n",
    "        trial = (random.gauss(mean, stddev) - mean) / stddev\n",
    "        sequence.append(trial)\n",
    "        summation += trial\n",
    "    average.append(summation / sample) # LLN\n",
    "    scaledsums.append(summation / math.sqrt(sample)) # CLT\n",
    "\n",
    "hist_average = np.histogram(average, bins=100)\n",
    "epdf_average = scipy.stats.rv_histogram(hist_average)\n",
    "hist_scaledsums = np.histogram(scaledsums, bins=100)\n",
    "epdf_scaledsums = scipy.stats.rv_histogram(hist_scaledsums)\n",
    "\n",
    "fig, (ax1, ax2) = plt.subplots(2, 1)\n",
    "x_axis1 = np.linspace(-5 / math.sqrt(sample), 5 / math.sqrt(sample), 100)\n",
    "ax1.set_xlabel('Quantized Value')\n",
    "ax1.set_ylabel('Probability Density Function')\n",
    "ax1.plot(x_axis1, epdf_average.pdf(x_axis1), label='PDF')\n",
    "x_axis2 = np.linspace(-5, 5, 100)\n",
    "ax2.plot(x_axis2, epdf_scaledsums.pdf(x_axis2), label='PDF')\n",
    "ax2.set_xlabel('Quantized Value')\n",
    "ax2.set_ylabel('Probability Density Function')\n",
    "plt.show()\n"
   ]
  },
  {
   "cell_type": "markdown",
   "id": "completed-merit",
   "metadata": {},
   "source": [
    "### Questions – Gaussian Random Variables\n",
    "\n",
    "* What is the expected value of the empirical average?\n",
    "  - ANSWER-01:\n",
    "* What is the standard deviation of the empirical average?\n",
    "  - ANSWER-02:\n",
    "* What is the limit distribution of the empirical average as *n* becomes large?\n",
    "  - ANSWER-03:\n",
    "* What is the expected value of the empirical scaled sum?\n",
    "  - ANSWER-04:\n",
    "* What is the standard deviation of the empirical scaled sum?\n",
    "  - ANSWER-05:\n",
    "* In the limit, what is the distribution of the empirical scaled sum as *n* becomes large?\n",
    "  - ANSWER-06:\n"
   ]
  },
  {
   "cell_type": "markdown",
   "id": "elegant-inclusion",
   "metadata": {},
   "source": [
    "## Bernoulli Random Variables\n",
    "\n",
    "In this section, we repeat the above procedure with Bernoulli random variables.\n",
    "Note that, while computing empirical sums, every trial is first centralized by subtracting the mean and, then, normalized by dividing by the standard deviation.\n",
    "The empirical average is obtained by adding *n* such trials and normalizing the resulting sum by *n*.\n",
    "The scaled sum is produced by adding *n* trials, but dividing the sum by the square root of *n* instead.\n",
    "This procedure is repeated over several *runs* and histograms of the outcomes are plotted.\n"
   ]
  },
  {
   "cell_type": "code",
   "execution_count": null,
   "id": "fluid-desert",
   "metadata": {},
   "outputs": [],
   "source": [
    "runs = 1000 # Number of points in histograms\n",
    "sample = 10000 # Number of random variables in each sum\n",
    "\n",
    "average = [] # List of empirical averages\n",
    "scaledsums = [] # List of empirical scaled sums\n",
    "mean = 0.5 # Mean of Bernoulli random variable\n",
    "stddev = 0.5 # Standard deviation of Bernoulli random variable\n",
    "\n",
    "for iteration in range(0, runs):\n",
    "    sequence = []\n",
    "    summation = 0.0\n",
    "    for index in range(0, sample):\n",
    "        trial = (random.getrandbits(1) - mean) / stddev\n",
    "        sequence.append(trial)\n",
    "        summation += trial\n",
    "    average.append(summation / sample) # LLN\n",
    "    scaledsums.append(summation / math.sqrt(sample)) # CLT\n",
    "\n",
    "hist_average = np.histogram(average, bins=100)\n",
    "epdf_average = scipy.stats.rv_histogram(hist_average)\n",
    "hist_scaledsums = np.histogram(scaledsums, bins=100)\n",
    "epdf_scaledsums = scipy.stats.rv_histogram(hist_scaledsums)\n",
    "    \n",
    "fig, (ax3, ax4) = plt.subplots(2, 1)\n",
    "x_axis3 = np.linspace(-5 / math.sqrt(sample), 5 / math.sqrt(sample), 100)\n",
    "ax3.set_xlabel('Quantized Value')\n",
    "ax3.set_ylabel('Probability Density Function')\n",
    "ax3.plot(x_axis3, epdf_average.pdf(x_axis3), label='PDF')\n",
    "x_axis4 = np.linspace(-5, 5, 100)\n",
    "ax4.plot(x_axis4, epdf_scaledsums.pdf(x_axis4), label='PDF')\n",
    "ax4.set_xlabel('Quantized Value')\n",
    "ax4.set_ylabel('Probability Density Function')\n",
    "plt.show()\n"
   ]
  },
  {
   "cell_type": "markdown",
   "id": "nuclear-broadway",
   "metadata": {},
   "source": [
    "### Questions – Bernoulli Random Variables\n",
    "\n",
    "* What is the limit of the empirical average as *n* becomes large?\n",
    "  - ANSWER-07:\n",
    "* What is the expected value of the empirical scaled sum?\n",
    "  - ANSWER-08:\n",
    "* What is the standard deviation of the empirical scaled sum?\n",
    "  - ANSWER-09:\n",
    "* In the limit, what is the distribution of the empirical scaled sum as *n* becomes large?\n",
    "  - ANSWER-10:\n"
   ]
  },
  {
   "cell_type": "markdown",
   "id": "blond-frequency",
   "metadata": {},
   "source": [
    "## Exponential Random Variables\n",
    "\n",
    "In this section, we repeat the same procedure with exponential random variables.\n",
    "Again, while computing empirical sums, every trial is first centralized by subtracting the mean and normalized by dividing by the standard deviation.\n",
    "\n"
   ]
  },
  {
   "cell_type": "code",
   "execution_count": null,
   "id": "expired-warren",
   "metadata": {},
   "outputs": [],
   "source": [
    "runs = 1000 # Number of points in histograms\n",
    "sample = 10000 # Number of random variables in each sum\n",
    "\n",
    "average = [] # List of empirical averages\n",
    "scaledsums = [] # List of empirical scaled sums\n",
    "mean = 1.0 # Mean of Bernoulli random variable\n",
    "stddev = 1.0 # Standard deviation of Bernoulli random variable\n",
    "\n",
    "for iteration in range(0, runs):\n",
    "    sequence = []\n",
    "    summation = 0.0\n",
    "    for index in range(0, sample):\n",
    "        trial = (random.expovariate(mean) - mean) / stddev\n",
    "        sequence.append(trial)\n",
    "        summation += trial\n",
    "    average.append(summation / sample) # LLN\n",
    "    scaledsums.append(summation / math.sqrt(sample)) # CLT\n",
    "\n",
    "hist_average = np.histogram(average, bins=100)\n",
    "epdf_average = scipy.stats.rv_histogram(hist_average)\n",
    "hist_scaledsums = np.histogram(scaledsums, bins=100)\n",
    "epdf_scaledsums = scipy.stats.rv_histogram(hist_scaledsums)\n",
    "    \n",
    "fig, (ax5, ax6) = plt.subplots(2, 1)\n",
    "x_axis5 = np.linspace(-5 / math.sqrt(sample), 5 / math.sqrt(sample), 100)\n",
    "ax5.set_xlabel('Quantized Value')\n",
    "ax5.set_ylabel('Probability Density Function')\n",
    "ax5.plot(x_axis5, epdf_average.pdf(x_axis5), label='PDF')\n",
    "x_axis6 = np.linspace(-5, 5, 100)\n",
    "ax6.plot(x_axis6, epdf_scaledsums.pdf(x_axis6), label='PDF')\n",
    "ax6.set_xlabel('Quantized Value')\n",
    "ax6.set_ylabel('Probability Density Function')\n",
    "plt.show()\n"
   ]
  },
  {
   "cell_type": "markdown",
   "id": "guided-development",
   "metadata": {},
   "source": [
    "### Questions – Exponential Random Variables\n",
    "\n",
    "* What is the limit of the empirical average as *n* becomes large?\n",
    "  - ANSWER-11:\n",
    "* What is the expected value of the empirical scaled sum?\n",
    "  - ANSWER-12:\n",
    "* What is the standard deviation of the empirical scaled sum?\n",
    "  - ANSWER-13:\n",
    "* In the limit, what is the distribution of the empirical scaled sum as *n* becomes large?\n",
    "  - ANSWER-14:\n"
   ]
  },
  {
   "cell_type": "markdown",
   "id": "informed-giant",
   "metadata": {},
   "source": [
    "## Cauchy Random Variables\n",
    "\n",
    "In this last section, we explore empirical averages of standard Cauchy random variables.\n",
    "Note that, due to the nature of these random variables, the average is computed differently.\n"
   ]
  },
  {
   "cell_type": "code",
   "execution_count": null,
   "id": "radio-error",
   "metadata": {},
   "outputs": [],
   "source": [
    "runs = 1000 # Number of points in histograms\n",
    "sample = 1000 # Number of random variables in each sum\n",
    "\n",
    "average = [] # List of empirical averages\n",
    "\n",
    "for iteration in range(0, runs):\n",
    "    sequence = []\n",
    "    runningavg = 0.0\n",
    "    for index in range(0, sample):\n",
    "        trial = np.random.standard_cauchy()\n",
    "        sequence.append(trial)\n",
    "        runningavg += trial / sample\n",
    "    average.append(runningavg) # LLN\n",
    "\n",
    "hist_average = np.histogram(average, bins=100)\n",
    "epdf_average = scipy.stats.rv_histogram(hist_average)\n",
    "\n",
    "fig, (ax7) = plt.subplots(1, 1)\n",
    "x_axis7 = np.linspace(-20, 20, 100)\n",
    "ax7.set_xlabel('Quantized Value')\n",
    "ax7.set_ylabel('Probability Density Function')\n",
    "ax7.plot(x_axis7, epdf_average.pdf(x_axis7), label='PDF')\n",
    "plt.show()\n"
   ]
  },
  {
   "cell_type": "markdown",
   "id": "compound-sodium",
   "metadata": {},
   "source": [
    "### Questions – Cauchy Random Variables\n",
    "\n",
    "* Do you think that the LLN applies to Cauchy random variables?\n",
    "  - ANSWER-15:\n"
   ]
  }
 ],
 "metadata": {
  "kernelspec": {
   "display_name": "Python 3",
   "language": "python",
   "name": "python3"
  },
  "language_info": {
   "codemirror_mode": {
    "name": "ipython",
    "version": 3
   },
   "file_extension": ".py",
   "mimetype": "text/x-python",
   "name": "python",
   "nbconvert_exporter": "python",
   "pygments_lexer": "ipython3",
   "version": "3.7.9"
  }
 },
 "nbformat": 4,
 "nbformat_minor": 5
}
